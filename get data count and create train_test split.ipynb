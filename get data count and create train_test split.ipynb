{
 "cells": [
  {
   "cell_type": "code",
   "execution_count": 1,
   "metadata": {},
   "outputs": [],
   "source": [
    "import glob\n",
    "import os\n",
    "import operator"
   ]
  },
  {
   "cell_type": "code",
   "execution_count": 2,
   "metadata": {},
   "outputs": [
    {
     "name": "stdout",
     "output_type": "stream",
     "text": [
      "lables:  1840\n",
      "images:  1840\n",
      "D:\\Signal_Data\\main\\output\\YOLO_darknet\\img2019-05-28-16-05-25-940509.txt\n",
      "D:\\Signal_Data\\main\\input\\img2019-05-28-16-05-25-940509.jpg\n"
     ]
    }
   ],
   "source": [
    "signals_img = glob.glob(\"D:\\Signal_Data\\main\\input\\*.jpg\")\n",
    "signals_label = glob.glob(\"D:\\Signal_Data\\main\\output\\YOLO_darknet\\*.txt\")\n",
    "print(\"lables: \", len(signals_img))\n",
    "print(\"images: \", len(signals_label))\n",
    "print(signals_label[0])\n",
    "print(signals_img[0])"
   ]
  },
  {
   "cell_type": "markdown",
   "metadata": {},
   "source": [
    "### print label files where no input image is available"
   ]
  },
  {
   "cell_type": "code",
   "execution_count": 3,
   "metadata": {},
   "outputs": [],
   "source": [
    "from pathlib import Path\n",
    "\n",
    "# long calc, enable if needed\n",
    "if False:\n",
    "    for labelfile in signals_label:\n",
    "        labelname = Path(labelfile).stem\n",
    "        found = False\n",
    "        for imgfile in signals_img:\n",
    "            if labelname == Path(imgfile).stem:\n",
    "                found = True\n",
    "        if found is False:\n",
    "            print(labelname)\n",
    "        \n",
    "### -->  remove unused files then restart juptyer notebook"
   ]
  },
  {
   "cell_type": "markdown",
   "metadata": {},
   "source": [
    "# Create data statistic"
   ]
  },
  {
   "cell_type": "code",
   "execution_count": 4,
   "metadata": {},
   "outputs": [
    {
     "name": "stdout",
     "output_type": "stream",
     "text": [
      "iterated over : 1840 files\n"
     ]
    },
    {
     "data": {
      "text/plain": [
       "{'0': 76,\n",
       " '1': 68,\n",
       " '2': 73,\n",
       " '3': 137,\n",
       " '4': 79,\n",
       " '5': 165,\n",
       " '6': 12,\n",
       " '7': 70,\n",
       " '8': 64,\n",
       " '9': 52,\n",
       " '10': 55,\n",
       " '11': 103,\n",
       " '12': 53,\n",
       " '13': 77,\n",
       " '14': 127,\n",
       " '15': 141,\n",
       " '16': 77,\n",
       " '17': 51,\n",
       " '18': 76,\n",
       " '19': 43,\n",
       " '20': 84,\n",
       " '21': 45,\n",
       " '22': 31,\n",
       " '23': 91,\n",
       " '24': 49,\n",
       " '25': 35,\n",
       " '26': 48,\n",
       " '27': 28,\n",
       " '28': 44,\n",
       " '29': 47,\n",
       " '30': 72,\n",
       " '31': 74,\n",
       " '32': 33,\n",
       " '33': 38,\n",
       " '34': 46,\n",
       " '35': 56,\n",
       " '36': 93}"
      ]
     },
     "execution_count": 4,
     "metadata": {},
     "output_type": "execute_result"
    }
   ],
   "source": [
    "signals_dict = {}\n",
    "split_number = 11 # every 11th picture will be taken for testing\n",
    "train = open(\"train.txt\", \"w\")\n",
    "test = open(\"test.txt\", \"w\")\n",
    "train_count = 0\n",
    "test_count = 0\n",
    "\n",
    "for i in range(37):\n",
    "    signals_dict[str(i)] = int(0)\n",
    "\n",
    "filecounter = 0\n",
    "for file in signals_label:\n",
    "    with open(file, \"r\") as openfile:\n",
    "        is_in_train_or_test = False\n",
    "        for line in openfile:\n",
    "            label = line[0:2].rstrip()   \n",
    "            signals_dict[label] = signals_dict[label] + 1               \n",
    "            if signals_dict[label] % split_number is 0:\n",
    "                if not is_in_train_or_test:\n",
    "                    is_in_train_or_test = True\n",
    "                    test.write(signals_img[filecounter]+\"\\n\")\n",
    "                    test_count = test_count +1\n",
    "            else:\n",
    "                if not is_in_train_or_test:\n",
    "                    is_in_train_or_test = True\n",
    "                    train.write(signals_img[filecounter]+\"\\n\")\n",
    "                    train_count = train_count +1\n",
    "    filecounter = filecounter +1\n",
    "                \n",
    "train.close()\n",
    "test.close()\n",
    "print(\"iterated over :\", filecounter, \"files\")\n",
    "signals_dict\n"
   ]
  },
  {
   "cell_type": "markdown",
   "metadata": {},
   "source": [
    "# Data sorted by occurence"
   ]
  },
  {
   "cell_type": "code",
   "execution_count": 5,
   "metadata": {},
   "outputs": [
    {
     "data": {
      "text/plain": [
       "[('6', 12),\n",
       " ('27', 28),\n",
       " ('22', 31),\n",
       " ('32', 33),\n",
       " ('25', 35),\n",
       " ('33', 38),\n",
       " ('19', 43),\n",
       " ('28', 44),\n",
       " ('21', 45),\n",
       " ('34', 46),\n",
       " ('29', 47),\n",
       " ('26', 48),\n",
       " ('24', 49),\n",
       " ('17', 51),\n",
       " ('9', 52),\n",
       " ('12', 53),\n",
       " ('10', 55),\n",
       " ('35', 56),\n",
       " ('8', 64),\n",
       " ('1', 68),\n",
       " ('7', 70),\n",
       " ('30', 72),\n",
       " ('2', 73),\n",
       " ('31', 74),\n",
       " ('0', 76),\n",
       " ('18', 76),\n",
       " ('13', 77),\n",
       " ('16', 77),\n",
       " ('4', 79),\n",
       " ('20', 84),\n",
       " ('23', 91),\n",
       " ('36', 93),\n",
       " ('11', 103),\n",
       " ('14', 127),\n",
       " ('3', 137),\n",
       " ('15', 141),\n",
       " ('5', 165)]"
      ]
     },
     "execution_count": 5,
     "metadata": {},
     "output_type": "execute_result"
    }
   ],
   "source": [
    "sorted_signals = sorted(signals_dict.items(), key=operator.itemgetter(1))\n",
    "sorted_signals"
   ]
  },
  {
   "cell_type": "markdown",
   "metadata": {},
   "source": [
    "# Amount of train and test files"
   ]
  },
  {
   "cell_type": "code",
   "execution_count": 6,
   "metadata": {},
   "outputs": [
    {
     "name": "stdout",
     "output_type": "stream",
     "text": [
      "test_count files:  1670\n",
      "test_count files:  167\n"
     ]
    }
   ],
   "source": [
    "print(\"test_count files: \", train_count)\n",
    "print(\"test_count files: \", test_count)"
   ]
  },
  {
   "cell_type": "markdown",
   "metadata": {},
   "source": [
    "## proof that pictures are in either train or test split, not in both"
   ]
  },
  {
   "cell_type": "code",
   "execution_count": 7,
   "metadata": {},
   "outputs": [],
   "source": [
    "\n",
    "with open(\"train.txt\", \"r\") as train:\n",
    "    with open(\"test.txt\", \"r\") as test:\n",
    "        for testline in test:\n",
    "            for trainline in train:\n",
    "                if testline is trainline:\n",
    "                    print(testline)\n",
    "# output should be nothing!!! aka no duplicates found"
   ]
  },
  {
   "cell_type": "code",
   "execution_count": null,
   "metadata": {},
   "outputs": [],
   "source": []
  }
 ],
 "metadata": {
  "kernelspec": {
   "display_name": "Python 3",
   "language": "python",
   "name": "python3"
  },
  "language_info": {
   "codemirror_mode": {
    "name": "ipython",
    "version": 3
   },
   "file_extension": ".py",
   "mimetype": "text/x-python",
   "name": "python",
   "nbconvert_exporter": "python",
   "pygments_lexer": "ipython3",
   "version": "3.6.8"
  }
 },
 "nbformat": 4,
 "nbformat_minor": 2
}
